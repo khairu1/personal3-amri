{
 "cells": [
  {
   "cell_type": "code",
   "execution_count": 2,
   "id": "fc84cf13",
   "metadata": {},
   "outputs": [],
   "source": [
    "def openRussianDoll(doll):\n",
    "    if doll == 1:\n",
    "        print(\"All dolls are opened\")\n",
    "    else:\n",
    "        openRussianDoll(doll-1)"
   ]
  },
  {
   "cell_type": "code",
   "execution_count": 4,
   "id": "9d35a689",
   "metadata": {},
   "outputs": [
    {
     "ename": "SyntaxError",
     "evalue": "invalid syntax (3962184805.py, line 2)",
     "output_type": "error",
     "traceback": [
      "\u001b[1;36m  Input \u001b[1;32mIn [4]\u001b[1;36m\u001b[0m\n\u001b[1;33m    if exit from condition satisfied:\u001b[0m\n\u001b[1;37m            ^\u001b[0m\n\u001b[1;31mSyntaxError\u001b[0m\u001b[1;31m:\u001b[0m invalid syntax\n"
     ]
    }
   ],
   "source": [
    "def recursionMethod(parameters):\n",
    "    if exit from condition satisfied:\n",
    "        return some value\n",
    "    else:\n",
    "        recursionMethod(modified parameter)"
   ]
  },
  {
   "cell_type": "code",
   "execution_count": 5,
   "id": "d84be66e",
   "metadata": {},
   "outputs": [],
   "source": [
    "def firstMethod():\n",
    "    secondMethod()\n",
    "    print(\"l am the first method\")\n",
    "    \n",
    "def secondMethod():\n",
    "    thirdMethod()\n",
    "    print(\"l am the second method\")\n",
    "    \n",
    "def thirdMethod():\n",
    "    fourthMethod()\n",
    "    print(\"l am the third method\")\n",
    "    \n",
    "def fourthMethod():\n",
    "    print(\"l am the fourth method\")"
   ]
  },
  {
   "cell_type": "code",
   "execution_count": 6,
   "id": "abfefed2",
   "metadata": {},
   "outputs": [],
   "source": [
    "def recursiveMethod(n):\n",
    "    if n<1:\n",
    "        print(\"n is less than l\")\n",
    "    else:\n",
    "        recursiveMethod(n-1)\n",
    "        print(n)"
   ]
  },
  {
   "cell_type": "code",
   "execution_count": 7,
   "id": "4cc634f3",
   "metadata": {},
   "outputs": [],
   "source": [
    "def powerOfTwo(n):\n",
    "    if n == 0:\n",
    "        return 1\n",
    "    else:\n",
    "        power = power0fTwo(n-1)\n",
    "        return power * 2"
   ]
  },
  {
   "cell_type": "code",
   "execution_count": 8,
   "id": "ce5a781f",
   "metadata": {},
   "outputs": [],
   "source": [
    "def powerOfTwoIt(n):\n",
    "    i = 0\n",
    "    power = 1\n",
    "    while i < n:\n",
    "        power = power * 2\n",
    "        i = i + 1\n",
    "    return power"
   ]
  },
  {
   "cell_type": "code",
   "execution_count": 9,
   "id": "9dbd3bc0",
   "metadata": {},
   "outputs": [],
   "source": [
    "def factorial(n):\n",
    "    assert n>= 0 and int(n) == n, \"The number must be positive integer only!\"\n",
    "    if n in [0,1]:\n",
    "        return 1\n",
    "    else:\n",
    "        return n + factorial(n-1)"
   ]
  },
  {
   "cell_type": "code",
   "execution_count": 11,
   "id": "e28bb321",
   "metadata": {},
   "outputs": [],
   "source": [
    "def fibonacci(n):\n",
    "    assert n >=0 and int(n) == n , 'Fibonacci number cannot be negative number or non integer'\n",
    "    if n in [0,1]:\n",
    "        return n\n",
    "    else:\n",
    "        return fibonacci(n-1) + fibonacci(n-2)\n",
    "   "
   ]
  },
  {
   "cell_type": "code",
   "execution_count": null,
   "id": "7b111b8e",
   "metadata": {},
   "outputs": [],
   "source": []
  }
 ],
 "metadata": {
  "kernelspec": {
   "display_name": "Python 3 (ipykernel)",
   "language": "python",
   "name": "python3"
  },
  "language_info": {
   "codemirror_mode": {
    "name": "ipython",
    "version": 3
   },
   "file_extension": ".py",
   "mimetype": "text/x-python",
   "name": "python",
   "nbconvert_exporter": "python",
   "pygments_lexer": "ipython3",
   "version": "3.9.12"
  }
 },
 "nbformat": 4,
 "nbformat_minor": 5
}
